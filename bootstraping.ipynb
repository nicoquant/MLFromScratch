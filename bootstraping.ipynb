{
 "cells": [
  {
   "attachments": {},
   "cell_type": "markdown",
   "metadata": {},
   "source": [
    "This module presents two methods to find the best hyperparameters for teh random forest and gradient boosting"
   ]
  },
  {
   "cell_type": "code",
   "execution_count": 1,
   "metadata": {},
   "outputs": [],
   "source": [
    "import matplotlib.pyplot as plt\n",
    "from prettytable import PrettyTable\n",
    "from classes.DataLoader import DataLoader\n",
    "\n",
    "from sklearn.ensemble import RandomForestRegressor\n",
    "from sklearn.svm import SVR\n",
    "from sklearn.ensemble import GradientBoostingRegressor\n",
    "\n",
    "import pandas as pd\n",
    "import numpy as np\n",
    "from classes import GradientBoosting, RandomForestClassifier\n",
    "from classes.hyperparameters_tuning import HyperparametersTuning as hp"
   ]
  },
  {
   "cell_type": "markdown",
   "metadata": {},
   "source": [
    "# Import data and create in sample and out sample data"
   ]
  },
  {
   "cell_type": "code",
   "execution_count": 2,
   "metadata": {},
   "outputs": [],
   "source": [
    "data = pd.read_csv(\"data/dataset.csv\", index_col=0)\n",
    "df_trv = data.rolling(5).std()  # standart deviation of the last 5 days\n",
    "df_trv.index = pd.to_datetime(df_trv.index)\n",
    "df_trv = df_trv.iloc[4:]\n",
    "df = df_trv[\"S&P500\"].dropna()\n",
    "# Min max scaling\n",
    "mi = df.min()\n",
    "ma = df.max()\n",
    "df = (df - mi)/(ma-mi)\n",
    "\n",
    "df = df[\"2000\":\"2007\"]\n",
    "\n",
    "pivot_index_training_1 = round(df.shape[0] * 0.25)\n",
    "pivot_index_training_2 = round(df.shape[0] * 0.75)\n"
   ]
  },
  {
   "cell_type": "code",
   "execution_count": 3,
   "metadata": {},
   "outputs": [],
   "source": [
    "df_train_1 = df.iloc[:pivot_index_training_1]\n",
    "df_train_2 = df.iloc[pivot_index_training_1:pivot_index_training_2]\n",
    "df_test = df.iloc[pivot_index_training_2:]\n",
    "\n",
    "ite_train_1 = DataLoader(df=df_train_1, Y=df_train_1.values, window_size=30, batch_size=df_train_1.shape[0])\n",
    "for batch in ite_train_1: # Only one batch there\n",
    "    X_train_1 , y_train_1 = batch"
   ]
  },
  {
   "cell_type": "code",
   "execution_count": 4,
   "metadata": {},
   "outputs": [],
   "source": [
    "ite_train_2 = DataLoader(df=df_train_2, Y=df_train_2.values, window_size=30, batch_size=df_train_2.shape[0])\n",
    "ite_test = DataLoader(df=df_test, Y=df_test.values, window_size=30, batch_size=df_test.shape[0])\n",
    "\n",
    "for batch in ite_train_2: # Only one batch there\n",
    "    X_train_2,y_train_2 = batch"
   ]
  },
  {
   "cell_type": "markdown",
   "metadata": {},
   "source": [
    "# Finding best hyperparameters for GB with library with CBB"
   ]
  },
  {
   "cell_type": "code",
   "execution_count": 5,
   "metadata": {},
   "outputs": [],
   "source": [
    "np.random.seed(42)\n",
    "hyp = {'min_samples_split': [2, 3], 'max_depth': [2, 3, 5], 'n_estimators': [10, 20, 30], 'learning_rate': [0.005, 0.01, 0.015]}\n",
    "h = hp(n_iter=20, model=GradientBoostingRegressor, dicto=hyp)\n",
    "hyper_gb_lib = h.block_bootstrap(X_train_2, y_train_2, size_block=100, type_tree='GB')"
   ]
  },
  {
   "cell_type": "code",
   "execution_count": 6,
   "metadata": {},
   "outputs": [
    {
     "data": {
      "text/plain": [
       "(3, 5, 30, 0.015)"
      ]
     },
     "execution_count": 6,
     "metadata": {},
     "output_type": "execute_result"
    }
   ],
   "source": [
    "hyper_gb_lib"
   ]
  },
  {
   "cell_type": "markdown",
   "metadata": {},
   "source": [
    "# Finding best hyperparameters for RF with library with CBB"
   ]
  },
  {
   "cell_type": "code",
   "execution_count": 7,
   "metadata": {},
   "outputs": [],
   "source": [
    "np.random.seed(42)\n",
    "hyp = {'min_samples_split': [2, 3], 'max_depth': [2, 3, 5], 'n_estimators': [10, 20, 30], 'learning_rate': [0.005, 0.01, 0.015]}\n",
    "h = hp(n_iter=20, model=RandomForestRegressor, dicto=hyp)\n",
    "hyper_rf_lib = h.block_bootstrap(X_train_2, y_train_2, size_block=100, type_tree='RF')"
   ]
  },
  {
   "cell_type": "code",
   "execution_count": 8,
   "metadata": {},
   "outputs": [
    {
     "data": {
      "text/plain": [
       "(3, 5, 30, 0.01)"
      ]
     },
     "execution_count": 8,
     "metadata": {},
     "output_type": "execute_result"
    }
   ],
   "source": [
    "hyper_rf_lib"
   ]
  },
  {
   "cell_type": "markdown",
   "metadata": {},
   "source": [
    "# Finding best hyperparameters for GB with library with stationary bootstrap"
   ]
  },
  {
   "cell_type": "code",
   "execution_count": 9,
   "metadata": {},
   "outputs": [],
   "source": [
    "np.random.seed(42)\n",
    "hyp = {'min_samples_split': [2, 3], 'max_depth': [2, 3, 5], 'n_estimators': [10, 20, 30], 'learning_rate': [0.005, 0.01, 0.015]}\n",
    "h = hp(n_iter=20, model=GradientBoostingRegressor, dicto=hyp)\n",
    "hyper_gb_lib = h.block_bootstrap(X_train_2, y_train_2, size_block=100, type_tree='GB', type_boot='stationary')"
   ]
  },
  {
   "cell_type": "code",
   "execution_count": 10,
   "metadata": {},
   "outputs": [
    {
     "data": {
      "text/plain": [
       "(2, 5, 30, 0.015)"
      ]
     },
     "execution_count": 10,
     "metadata": {},
     "output_type": "execute_result"
    }
   ],
   "source": [
    "hyper_gb_lib"
   ]
  },
  {
   "cell_type": "markdown",
   "metadata": {},
   "source": [
    "# Finding best hyperparameters for RF with library with stationary bootstrap"
   ]
  },
  {
   "cell_type": "code",
   "execution_count": 11,
   "metadata": {},
   "outputs": [],
   "source": [
    "np.random.seed(42)\n",
    "hyp = {'min_samples_split': [2, 3], 'max_depth': [2, 3, 5], 'n_estimators': [10, 20, 30], 'learning_rate': [0.005, 0.01, 0.015]}\n",
    "h = hp(n_iter=20, model=RandomForestRegressor, dicto=hyp)\n",
    "hyper_rf_lib = h.block_bootstrap(X_train_2, y_train_2, size_block=100, type_tree='RF', type_boot='stationary')"
   ]
  },
  {
   "cell_type": "code",
   "execution_count": 12,
   "metadata": {},
   "outputs": [
    {
     "data": {
      "text/plain": [
       "(3, 5, 10, 0.005)"
      ]
     },
     "execution_count": 12,
     "metadata": {},
     "output_type": "execute_result"
    }
   ],
   "source": [
    "hyper_rf_lib"
   ]
  },
  {
   "cell_type": "code",
   "execution_count": null,
   "metadata": {},
   "outputs": [],
   "source": []
  }
 ],
 "metadata": {
  "kernelspec": {
   "display_name": "Python 3",
   "language": "python",
   "name": "python3"
  },
  "language_info": {
   "codemirror_mode": {
    "name": "ipython",
    "version": 3
   },
   "file_extension": ".py",
   "mimetype": "text/x-python",
   "name": "python",
   "nbconvert_exporter": "python",
   "pygments_lexer": "ipython3",
   "version": "3.9.13 (tags/v3.9.13:6de2ca5, May 17 2022, 16:36:42) [MSC v.1929 64 bit (AMD64)]"
  },
  "vscode": {
   "interpreter": {
    "hash": "c9b04fdcb430474004bc74d2d28d415b40d0bb88a523fdc7d942e25fe1aa22b8"
   }
  }
 },
 "nbformat": 4,
 "nbformat_minor": 4
}
